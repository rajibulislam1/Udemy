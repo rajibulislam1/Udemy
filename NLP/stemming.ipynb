{
 "cells": [
  {
   "cell_type": "code",
   "execution_count": 1,
   "id": "52d9c0a5",
   "metadata": {},
   "outputs": [],
   "source": [
    "words = ['Taking', 'Took', 'Taken','takes','eating','eaten','eats','running','ran','runs']"
   ]
  },
  {
   "cell_type": "markdown",
   "id": "a98d0652",
   "metadata": {},
   "source": [
    "### PorterStemmer"
   ]
  },
  {
   "cell_type": "code",
   "execution_count": 2,
   "id": "825f443f",
   "metadata": {},
   "outputs": [],
   "source": [
    "from nltk.stem import PorterStemmer\n",
    "ps = PorterStemmer()"
   ]
  },
  {
   "cell_type": "code",
   "execution_count": 5,
   "id": "a3aad158",
   "metadata": {},
   "outputs": [
    {
     "name": "stdout",
     "output_type": "stream",
     "text": [
      "Taking --> take\n",
      "Took --> took\n",
      "Taken --> taken\n",
      "takes --> take\n",
      "eating --> eat\n",
      "eaten --> eaten\n",
      "eats --> eat\n",
      "running --> run\n",
      "ran --> ran\n",
      "runs --> run\n"
     ]
    }
   ],
   "source": [
    "for word in words:\n",
    "    print(f'{word} --> {ps.stem(word)}')"
   ]
  },
  {
   "cell_type": "code",
   "execution_count": 6,
   "id": "4001e160",
   "metadata": {},
   "outputs": [
    {
     "data": {
      "text/plain": [
       "'congratul'"
      ]
     },
     "execution_count": 6,
     "metadata": {},
     "output_type": "execute_result"
    }
   ],
   "source": [
    "ps.stem('congratulations')"
   ]
  },
  {
   "cell_type": "code",
   "execution_count": 7,
   "id": "adabdcb1",
   "metadata": {},
   "outputs": [
    {
     "data": {
      "text/plain": [
       "'run'"
      ]
     },
     "execution_count": 7,
     "metadata": {},
     "output_type": "execute_result"
    }
   ],
   "source": [
    "ps.stem('running')"
   ]
  },
  {
   "cell_type": "markdown",
   "id": "0d0c193c",
   "metadata": {},
   "source": [
    "### RegexpStemmer Class"
   ]
  },
  {
   "cell_type": "code",
   "execution_count": 8,
   "id": "b408d77d",
   "metadata": {},
   "outputs": [],
   "source": [
    "from nltk.stem import RegexpStemmer"
   ]
  },
  {
   "cell_type": "code",
   "execution_count": 11,
   "id": "4c11eb46",
   "metadata": {},
   "outputs": [],
   "source": [
    "reg_stemmer = RegexpStemmer('ing$|s$|e$|ed$|r$|able$|tions$')"
   ]
  },
  {
   "cell_type": "code",
   "execution_count": 12,
   "id": "46ac8486",
   "metadata": {},
   "outputs": [
    {
     "data": {
      "text/plain": [
       "'congratula'"
      ]
     },
     "execution_count": 12,
     "metadata": {},
     "output_type": "execute_result"
    }
   ],
   "source": [
    "reg_stemmer.stem('congratulations')"
   ]
  },
  {
   "cell_type": "code",
   "execution_count": 13,
   "id": "827cf038",
   "metadata": {},
   "outputs": [
    {
     "data": {
      "text/plain": [
       "'cap'"
      ]
     },
     "execution_count": 13,
     "metadata": {},
     "output_type": "execute_result"
    }
   ],
   "source": [
    "reg_stemmer.stem('capable')"
   ]
  },
  {
   "cell_type": "code",
   "execution_count": 14,
   "id": "1c2ac674",
   "metadata": {},
   "outputs": [
    {
     "data": {
      "text/plain": [
       "'eat'"
      ]
     },
     "execution_count": 14,
     "metadata": {},
     "output_type": "execute_result"
    }
   ],
   "source": [
    "reg_stemmer.stem('eating')"
   ]
  },
  {
   "cell_type": "markdown",
   "id": "530d6e78",
   "metadata": {},
   "source": [
    "### SnowballStemmer Class"
   ]
  },
  {
   "cell_type": "code",
   "execution_count": 16,
   "id": "6df57000",
   "metadata": {},
   "outputs": [],
   "source": [
    "from nltk.stem import SnowballStemmer"
   ]
  },
  {
   "cell_type": "code",
   "execution_count": 17,
   "id": "00aa1027",
   "metadata": {},
   "outputs": [],
   "source": [
    "snowball = SnowballStemmer('english')"
   ]
  },
  {
   "cell_type": "code",
   "execution_count": 18,
   "id": "bb1e5769",
   "metadata": {},
   "outputs": [
    {
     "name": "stdout",
     "output_type": "stream",
     "text": [
      "Taking --> take\n",
      "Took --> took\n",
      "Taken --> taken\n",
      "takes --> take\n",
      "eating --> eat\n",
      "eaten --> eaten\n",
      "eats --> eat\n",
      "running --> run\n",
      "ran --> ran\n",
      "runs --> run\n"
     ]
    }
   ],
   "source": [
    "for word in words:\n",
    "    print(word+' --> '+snowball.stem(word))"
   ]
  },
  {
   "cell_type": "code",
   "execution_count": 22,
   "id": "e6f6f2f5",
   "metadata": {},
   "outputs": [
    {
     "data": {
      "text/plain": [
       "('fair', 'sport')"
      ]
     },
     "execution_count": 22,
     "metadata": {},
     "output_type": "execute_result"
    }
   ],
   "source": [
    "snowball.stem('fairly'), snowball.stem('sportingly') # SnowballStemmer"
   ]
  },
  {
   "cell_type": "code",
   "execution_count": null,
   "id": "32a66a52",
   "metadata": {},
   "outputs": [
    {
     "data": {
      "text/plain": [
       "('fairli', 'sportingli')"
      ]
     },
     "execution_count": 21,
     "metadata": {},
     "output_type": "execute_result"
    }
   ],
   "source": [
    "ps.stem('fairly'), ps.stem('sportingly') # PorterStemmer"
   ]
  },
  {
   "cell_type": "code",
   "execution_count": null,
   "id": "9b43d246",
   "metadata": {},
   "outputs": [],
   "source": []
  }
 ],
 "metadata": {
  "kernelspec": {
   "display_name": "udemy (3.11.13)",
   "language": "python",
   "name": "python3"
  },
  "language_info": {
   "codemirror_mode": {
    "name": "ipython",
    "version": 3
   },
   "file_extension": ".py",
   "mimetype": "text/x-python",
   "name": "python",
   "nbconvert_exporter": "python",
   "pygments_lexer": "ipython3",
   "version": "3.11.13"
  }
 },
 "nbformat": 4,
 "nbformat_minor": 5
}
