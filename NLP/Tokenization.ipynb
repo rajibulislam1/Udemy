{
 "cells": [
  {
   "cell_type": "code",
   "execution_count": 35,
   "id": "ba66cd1c",
   "metadata": {},
   "outputs": [],
   "source": [
    "## Tokenization\n",
    "## sentences --<< Paragraph\n",
    "from nltk.tokenize import PunktSentenceTokenizer"
   ]
  },
  {
   "cell_type": "code",
   "execution_count": null,
   "id": "15558501",
   "metadata": {},
   "outputs": [
    {
     "name": "stdout",
     "output_type": "stream",
     "text": [
      "['The dog chased the ball across the yard.', 'Sarah is reading a book in the park nearby.', 'I will go to the store tomorrow.']\n"
     ]
    }
   ],
   "source": [
    "\n",
    "\n",
    "# Load the standard English tokenizer\n",
    "tokenizer = PunktSentenceTokenizer()\n",
    "corpus = \"The dog chased the ball across the yard. Sarah is reading a book in the park nearby. I will go to the store tomorrow.\"\n",
    "sentences = tokenizer.tokenize(corpus) ## Tokenizes sentences\n",
    "print(sentences)\n"
   ]
  },
  {
   "cell_type": "code",
   "execution_count": 37,
   "id": "73efeb1c",
   "metadata": {},
   "outputs": [
    {
     "data": {
      "text/plain": [
       "list"
      ]
     },
     "execution_count": 37,
     "metadata": {},
     "output_type": "execute_result"
    }
   ],
   "source": [
    "type(sentences)"
   ]
  },
  {
   "cell_type": "code",
   "execution_count": 38,
   "id": "7491dafe",
   "metadata": {},
   "outputs": [
    {
     "name": "stdout",
     "output_type": "stream",
     "text": [
      "The dog chased the ball across the yard.\n",
      "Sarah is reading a book in the park nearby.\n",
      "I will go to the store tomorrow.\n"
     ]
    }
   ],
   "source": [
    "for sent in sentences:\n",
    "    print(sent)"
   ]
  },
  {
   "cell_type": "code",
   "execution_count": null,
   "id": "a57751f0",
   "metadata": {},
   "outputs": [
    {
     "data": {
      "text/plain": [
       "['The',\n",
       " 'dog',\n",
       " 'chased',\n",
       " 'the',\n",
       " 'ball',\n",
       " 'across',\n",
       " 'the',\n",
       " 'yard.',\n",
       " 'Sarah',\n",
       " 'is',\n",
       " 'reading',\n",
       " 'a',\n",
       " 'book',\n",
       " 'in',\n",
       " 'the',\n",
       " 'park',\n",
       " 'nearby.',\n",
       " 'I',\n",
       " 'will',\n",
       " 'go',\n",
       " 'to',\n",
       " 'the',\n",
       " 'store',\n",
       " 'tomorrow',\n",
       " '.']"
      ]
     },
     "execution_count": 44,
     "metadata": {},
     "output_type": "execute_result"
    }
   ],
   "source": [
    "# Tokenizing words\n",
    "from nltk.tokenize import TreebankWordTokenizer\n",
    "words = TreebankWordTokenizer().tokenize(corpus) ## Tokenizes words properly\n",
    "words ## Tokenizes punctuation properly"
   ]
  },
  {
   "cell_type": "code",
   "execution_count": null,
   "id": "cba23a63",
   "metadata": {},
   "outputs": [
    {
     "name": "stdout",
     "output_type": "stream",
     "text": [
      "['The', 'dog', 'chased', 'the', 'ball', 'across', 'the', 'yard', '.']\n",
      "['Sarah', 'is', 'reading', 'a', 'book', 'in', 'the', 'park', 'nearby', '.']\n",
      "['I', 'will', 'go', 'to', 'the', 'store', 'tomorrow', '.']\n"
     ]
    }
   ],
   "source": [
    "for sent in sentences:\n",
    "    print(TreebankWordTokenizer().tokenize(sent)) # Tokenizes each sentence separately"
   ]
  },
  {
   "cell_type": "code",
   "execution_count": null,
   "id": "c9906c39",
   "metadata": {},
   "outputs": [
    {
     "data": {
      "text/plain": [
       "['The',\n",
       " 'dog',\n",
       " 'chased',\n",
       " 'the',\n",
       " 'ball',\n",
       " 'across',\n",
       " 'the',\n",
       " 'yard',\n",
       " '.',\n",
       " 'Sarah',\n",
       " 'is',\n",
       " 'reading',\n",
       " 'a',\n",
       " 'book',\n",
       " 'in',\n",
       " 'the',\n",
       " 'park',\n",
       " 'nearby',\n",
       " '.',\n",
       " 'I',\n",
       " 'will',\n",
       " 'go',\n",
       " 'to',\n",
       " 'the',\n",
       " 'store',\n",
       " 'tomorrow',\n",
       " '.']"
      ]
     },
     "execution_count": 46,
     "metadata": {},
     "output_type": "execute_result"
    }
   ],
   "source": [
    "from nltk.tokenize import wordpunct_tokenize\n",
    "wordpunct_tokenize(corpus) ## Tokenizes punctuation as well"
   ]
  },
  {
   "cell_type": "code",
   "execution_count": null,
   "id": "7c50364f",
   "metadata": {},
   "outputs": [],
   "source": []
  }
 ],
 "metadata": {
  "kernelspec": {
   "display_name": "udemy (3.11.13)",
   "language": "python",
   "name": "python3"
  },
  "language_info": {
   "codemirror_mode": {
    "name": "ipython",
    "version": 3
   },
   "file_extension": ".py",
   "mimetype": "text/x-python",
   "name": "python",
   "nbconvert_exporter": "python",
   "pygments_lexer": "ipython3",
   "version": "3.11.13"
  }
 },
 "nbformat": 4,
 "nbformat_minor": 5
}
